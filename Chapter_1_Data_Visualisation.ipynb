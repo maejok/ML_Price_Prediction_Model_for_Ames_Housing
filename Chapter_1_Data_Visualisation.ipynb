{
 "cells": [
  {
   "cell_type": "markdown",
   "metadata": {},
   "source": [
    "# Descriptive Visualizations\n",
    "\n",
    "The purpose of this notebook is to visually examine the nominal features, discard the useless ones among them, and create new factor variables.\n",
    "\n",
    "The \"main\" plot used in this notebook is *OverQual* vs. *SalePrice* as the overall living area is the most correlated predictor (which is also very intuitive). Many of the nominal variables change the slopes of the regression lines for sub-groups of data points significantly."
   ]
  },
  {
   "cell_type": "markdown",
   "metadata": {},
   "source": [
    "## \"Housekeeping\""
   ]
  },
  {
   "cell_type": "code",
   "execution_count": null,
   "metadata": {},
   "outputs": [],
   "source": [
    "import json\n",
    "\n",
    "import matplotlib.pyplot as plt\n",
    "import numpy as np\n",
    "import pandas as pd\n",
    "import seaborn as sns\n",
    "\n",
    "from sklearn.ensemble import IsolationForest\n"
   ]
  },
  {
   "cell_type": "code",
   "execution_count": null,
   "metadata": {},
   "outputs": [],
   "source": [
    "pd.set_option(\"display.max_columns\", 120)"
   ]
  },
  {
   "cell_type": "code",
   "execution_count": null,
   "metadata": {},
   "outputs": [],
   "source": [
    "sns.set_style(\"white\")"
   ]
  },
  {
   "cell_type": "markdown",
   "metadata": {},
   "source": [
    "## Load the Data\n"
   ]
  },
  {
   "cell_type": "code",
   "execution_count": null,
   "metadata": {},
   "outputs": [],
   "source": [
    "\n",
    "housing = pd.read_csv('housing.csv', index_col=0)\n",
    "housing_new = pd.read_csv('housing_new.csv', index_col=0)\n",
    "housing = housing[housing.GrLivArea<3700]"
   ]
  },
  {
   "cell_type": "code",
   "execution_count": null,
   "metadata": {},
   "outputs": [],
   "source": [
    "housing.shape"
   ]
  },
  {
   "cell_type": "code",
   "execution_count": null,
   "metadata": {},
   "outputs": [],
   "source": [
    "housing.head()"
   ]
  },
  {
   "cell_type": "markdown",
   "metadata": {},
   "source": [
    "Collect the newly created variables in the *new_variables* list."
   ]
  },
  {
   "cell_type": "code",
   "execution_count": null,
   "metadata": {},
   "outputs": [],
   "source": [
    "new_variables = []"
   ]
  },
  {
   "cell_type": "markdown",
   "metadata": {},
   "source": [
    "## Derived Characteristics\n",
    "\n",
    "Certain characteristics of a house are assumed to have a \"binary\" influence on the sales price. For example, the existence of a pool could be an important predictor while the exact size of the pool can be deemed not so important.\n",
    "\n",
    "The below cell creates boolean factor variables out of a set of numeric variables."
   ]
  },
  {
   "cell_type": "code",
   "execution_count": null,
   "metadata": {},
   "outputs": [],
   "source": [
    "derived_variables = {\n",
    "    \"has 2nd Flr\": \"2ndFlrSF\",\n",
    "    \"has Bsmt\": \"TotalBsmtSF\",\n",
    "    \"has Fireplace\": \"Fireplaces\",\n",
    "    \"has Garage\": \"GarageArea\",\n",
    "    \"has Pool\": \"PoolArea\",\n",
    "    \n",
    "}\n",
    "# Factorize numeric columns.\n",
    "for factor_column, column in derived_variables.items():\n",
    "    housing[factor_column] = housing[column].apply(lambda x: 1 if x > 0 else 0)\n",
    "derived_variables = list(derived_variables.keys())"
   ]
  },
  {
   "cell_type": "raw",
   "metadata": {},
   "source": [
    "new_variables.extend(derived_variables)\n",
    "new_variables"
   ]
  },
  {
   "cell_type": "code",
   "execution_count": null,
   "metadata": {},
   "outputs": [],
   "source": [
    "housing[derived_variables].head()"
   ]
  },
  {
   "cell_type": "markdown",
   "metadata": {},
   "source": [
    "### 2nd Floors\n",
    "\n",
    "A second floor may have a positive effect on the sales price. However, having a second floor correlates with overall living space. The individual effect is therefore not as clear as it seems in the plot below. The properties that have the same GrLivArea on two floors seems to cost less than those that have only a single floor. This is because the first floor is actually half the size and the compound is likely to be smaller."
   ]
  },
  {
   "cell_type": "code",
   "execution_count": null,
   "metadata": {},
   "outputs": [],
   "source": [
    "sns.scatterplot(x=\"GrLivArea\", y=\"SalePrice\", hue=\"has 2nd Flr\", s=15, data=housing);"
   ]
  },
  {
   "cell_type": "markdown",
   "metadata": {},
   "source": [
    "### Basements\n",
    "\n",
    "Nearly all houses in Ames, IA, have a basement. Therefore, *has Bsmt* is most likely not an important predictor."
   ]
  },
  {
   "cell_type": "code",
   "execution_count": null,
   "metadata": {},
   "outputs": [],
   "source": [
    "sns.scatterplot(x=\"GrLivArea\", y=\"SalePrice\", hue=\"has Bsmt\", s=15, data=housing);"
   ]
  },
  {
   "cell_type": "markdown",
   "metadata": {},
   "source": [
    "### Fireplaces\n",
    "\n",
    "Bigger houses are more likely to have a fireplace. Thus, the variable *has Fireplace* might be an interesting predictor for bigger houses"
   ]
  },
  {
   "cell_type": "code",
   "execution_count": null,
   "metadata": {},
   "outputs": [],
   "source": [
    "sns.scatterplot(x=\"GrLivArea\", y=\"SalePrice\", hue=\"has Fireplace\", s=10, data=housing);"
   ]
  },
  {
   "cell_type": "markdown",
   "metadata": {},
   "source": [
    "### Garages\n",
    "\n",
    "Holding the overall living area fixed adding a garage seems to affect the price positively. Thus, *has Garage* seems like an interesting predictor as well."
   ]
  },
  {
   "cell_type": "code",
   "execution_count": null,
   "metadata": {},
   "outputs": [],
   "source": [
    "sns.scatterplot(x=\"GrLivArea\", y=\"SalePrice\", hue=\"has Garage\", s=10, data=housing);"
   ]
  },
  {
   "cell_type": "markdown",
   "metadata": {},
   "source": [
    "### Pools\n",
    "\n",
    "Unfortunately, almost no one in Ames, IA, has a pool. The predictor *has Pool* seems quite uninteresting."
   ]
  },
  {
   "cell_type": "code",
   "execution_count": null,
   "metadata": {},
   "outputs": [],
   "source": [
    "sns.scatterplot(x=\"GrLivArea\", y=\"SalePrice\", hue=\"has Pool\", s=15, data=housing);"
   ]
  },
  {
   "cell_type": "markdown",
   "metadata": {},
   "source": [
    "### Quality\n",
    "\n",
    "Bigger houses seems to have better qualities."
   ]
  },
  {
   "cell_type": "code",
   "execution_count": null,
   "metadata": {},
   "outputs": [],
   "source": [
    "sns.scatterplot(x=\"GrLivArea\", y=\"SalePrice\", hue= \"OverallQual\", s=10, data=housing);"
   ]
  },
  {
   "cell_type": "markdown",
   "metadata": {},
   "source": [
    "## Neighborhoods\n"
   ]
  },
  {
   "cell_type": "code",
   "execution_count": null,
   "metadata": {},
   "outputs": [],
   "source": [
    "sns.scatterplot(x=\"GrLivArea\", y=\"SalePrice\", hue= \"Neighborhood\", s=10, data=housing);"
   ]
  },
  {
   "cell_type": "code",
   "execution_count": null,
   "metadata": {},
   "outputs": [],
   "source": [
    "housing"
   ]
  },
  {
   "cell_type": "code",
   "execution_count": null,
   "metadata": {},
   "outputs": [],
   "source": [
    "sns.scatterplot(x=\"GrLivArea\", y=\"SalePrice\", hue= \"dist\", s=10, data=housing);"
   ]
  },
  {
   "cell_type": "code",
   "execution_count": null,
   "metadata": {},
   "outputs": [],
   "source": [
    "_, ax = plt.subplots(figsize=(10, 8))\n",
    "sns.boxplot(x=\"Neighborhood\", y=\"SalePrice\", data=housing, ax=ax)\n",
    "ax.set_title(\"Prices by hood\", fontsize=24)\n",
    "ax.set_xlabel(\"Neighborhood\", fontsize=18)\n",
    "ax.set_xticklabels(ax.get_xticklabels(), rotation=45)\n",
    "ax.set_ylabel(\"House Price\", fontsize=18);"
   ]
  },
  {
   "cell_type": "code",
   "execution_count": null,
   "metadata": {},
   "outputs": [],
   "source": [
    "housing_new"
   ]
  },
  {
   "cell_type": "markdown",
   "metadata": {},
   "source": [
    "The 28 neighborhoods are encoded as factor variables."
   ]
  },
  {
   "cell_type": "code",
   "execution_count": null,
   "metadata": {},
   "outputs": [],
   "source": [
    "neighborhood = pd.get_dummies(housing[\"Neighborhood\"], prefix=\"nhood_\", drop_first=True)\n",
    "housing = pd.concat([housing, neighborhood], axis=1)\n"
   ]
  },
  {
   "cell_type": "code",
   "execution_count": null,
   "metadata": {},
   "outputs": [],
   "source": [
    "housing"
   ]
  },
  {
   "cell_type": "code",
   "execution_count": null,
   "metadata": {},
   "outputs": [],
   "source": [
    "new_variables.extend(neighborhood.columns)"
   ]
  },
  {
   "cell_type": "code",
   "execution_count": null,
   "metadata": {},
   "outputs": [],
   "source": [
    "housing[neighborhood.columns].shape"
   ]
  },
  {
   "cell_type": "code",
   "execution_count": null,
   "metadata": {},
   "outputs": [],
   "source": [
    "housing[neighborhood.columns].head()"
   ]
  },
  {
   "cell_type": "code",
   "execution_count": null,
   "metadata": {},
   "outputs": [],
   "source": []
  },
  {
   "cell_type": "markdown",
   "metadata": {},
   "source": [
    "### Alleys\n",
    "\n",
    "Almost no house has access to an alley."
   ]
  },
  {
   "cell_type": "code",
   "execution_count": null,
   "metadata": {},
   "outputs": [],
   "source": [
    "sns.scatterplot(x=\"GrLivArea\", y=\"SalePrice\", hue=\"Alley\", s=10, data=housing);"
   ]
  },
  {
   "cell_type": "code",
   "execution_count": null,
   "metadata": {},
   "outputs": [],
   "source": []
  },
  {
   "cell_type": "markdown",
   "metadata": {},
   "source": [
    "### Building Type\n",
    "\n",
    "The type of a building clearly affects the valuation. The two types of townhouses as well as the 2-family condo and duplex type are summarized into a single category. This makes sense a) semantically, and b) by looking at the two sub-clusters in the scatter plot."
   ]
  },
  {
   "cell_type": "code",
   "execution_count": null,
   "metadata": {},
   "outputs": [],
   "source": [
    "sns.scatterplot(x=\"GrLivArea\", y=\"SalePrice\", hue=\"BldgType\", s=10, data=housing);"
   ]
  },
  {
   "cell_type": "code",
   "execution_count": null,
   "metadata": {},
   "outputs": [],
   "source": [
    "# Housing where condition1 is not norm is significanctly lower priced.\n",
    "sns.scatterplot(x=\"GrLivArea\", y=\"SalePrice\", hue=\"Condition1\", s=10, data=housing);"
   ]
  },
  {
   "cell_type": "markdown",
   "metadata": {},
   "source": [
    "However, plotting the groups seperately reveals different slopes."
   ]
  },
  {
   "cell_type": "code",
   "execution_count": null,
   "metadata": {},
   "outputs": [],
   "source": [
    "street = [1]\n",
    "\n",
    "plot = sns.lmplot(\n",
    "    x=\"GrLivArea\", y=\"SalePrice\", col=\"Condition1\", hue=\"Condition1\",\n",
    "    col_order=[0] + street,\n",
    "    data=housing, robust=True, col_wrap=4, ci=None, truncate=True, scatter_kws={\"s\": 10},\n",
    ")\n",
    "# Adjust font sizes.\n",
    "for ax in plot.axes:\n",
    "    ax.set_title(ax.get_title(), fontsize=20)\n",
    "    ax.set_xlabel(ax.get_xlabel(), fontsize=16)\n",
    "    ax.set_ylabel(ax.get_ylabel(), fontsize=16)"
   ]
  },
  {
   "cell_type": "markdown",
   "metadata": {},
   "source": [
    "Extract factor variables *major_street*, *railway*, and *park*."
   ]
  },
  {
   "cell_type": "markdown",
   "metadata": {},
   "source": [
    "### Exterior\n",
    "\n",
    "This dimensions tells the main material with which the houses are made of. The category is too diverse and the various grouped scatter plots did not reveal differing slopes."
   ]
  },
  {
   "cell_type": "code",
   "execution_count": null,
   "metadata": {},
   "outputs": [],
   "source": []
  },
  {
   "cell_type": "code",
   "execution_count": null,
   "metadata": {},
   "outputs": [],
   "source": [
    "sns.scatterplot(x=\"GrLivArea\", y=\"SalePrice\", hue=\"Exterior1st\", s=10, data=housing);"
   ]
  },
  {
   "cell_type": "code",
   "execution_count": null,
   "metadata": {},
   "outputs": [],
   "source": [
    "sns.scatterplot(x=\"GrLivArea\", y=\"SalePrice\", hue=\"Exterior2nd\", s=10, data=housing);"
   ]
  },
  {
   "cell_type": "code",
   "execution_count": null,
   "metadata": {},
   "outputs": [],
   "source": []
  },
  {
   "cell_type": "markdown",
   "metadata": {},
   "source": [
    "### Foundation\n",
    "\n",
    "The type of foundation appears to have an effect. Houses with Pconc foundations have higher prices compared to the rest"
   ]
  },
  {
   "cell_type": "markdown",
   "metadata": {},
   "source": [
    "### Garage Type\n",
    "\n",
    "The garagetype is significant for the SalePrice"
   ]
  },
  {
   "cell_type": "code",
   "execution_count": null,
   "metadata": {},
   "outputs": [],
   "source": [
    "sns.scatterplot(x=\"GrLivArea\", y=\"SalePrice\", hue=\"GarageType\", s=15, data=housing);"
   ]
  },
  {
   "cell_type": "code",
   "execution_count": null,
   "metadata": {},
   "outputs": [],
   "source": []
  },
  {
   "cell_type": "markdown",
   "metadata": {},
   "source": [
    "### Heating\n",
    "\n",
    "Most of the houses have gas."
   ]
  },
  {
   "cell_type": "code",
   "execution_count": null,
   "metadata": {},
   "outputs": [],
   "source": [
    "sns.scatterplot(x=\"GrLivArea\", y=\"SalePrice\", hue=\"Heating\", s=10, data=housing);"
   ]
  },
  {
   "cell_type": "markdown",
   "metadata": {},
   "source": [
    "### House Style\n"
   ]
  },
  {
   "cell_type": "code",
   "execution_count": null,
   "metadata": {},
   "outputs": [],
   "source": [
    "sns.scatterplot(x=\"GrLivArea\", y=\"SalePrice\", hue=\"HouseStyle\", s=15, data=housing);"
   ]
  },
  {
   "cell_type": "code",
   "execution_count": null,
   "metadata": {},
   "outputs": [],
   "source": []
  },
  {
   "cell_type": "markdown",
   "metadata": {},
   "source": [
    "### Land Contour\n",
    "\n",
    "This variable is assumed to contain the same information as the ordinal variable *Land Slope* and is dropped."
   ]
  },
  {
   "cell_type": "code",
   "execution_count": null,
   "metadata": {},
   "outputs": [],
   "source": [
    "sns.scatterplot(x=\"GrLivArea\", y=\"SalePrice\", hue=\"LandContour\", s=15, data=housing);"
   ]
  },
  {
   "cell_type": "code",
   "execution_count": null,
   "metadata": {},
   "outputs": [],
   "source": []
  },
  {
   "cell_type": "markdown",
   "metadata": {},
   "source": [
    "### Lot Configuration\n",
    "\n",
    "This variable shows no good pattern and is dropped."
   ]
  },
  {
   "cell_type": "code",
   "execution_count": null,
   "metadata": {},
   "outputs": [],
   "source": [
    "sns.scatterplot(x=\"GrLivArea\", y=\"SalePrice\", hue=\"LotConfig\", s=15, data=housing);"
   ]
  },
  {
   "cell_type": "markdown",
   "metadata": {},
   "source": [
    "### Masonry Veneer Type\n",
    "\n",
    "\"Stone\" has a higher slope than others"
   ]
  },
  {
   "cell_type": "code",
   "execution_count": null,
   "metadata": {},
   "outputs": [],
   "source": [
    "sns.scatterplot(x=\"GrLivArea\", y=\"SalePrice\", hue=\"MasVnrType\", s=15, data=housing);"
   ]
  },
  {
   "cell_type": "code",
   "execution_count": null,
   "metadata": {},
   "outputs": [],
   "source": [
    "street = [\"BrkFace\"]\n",
    "none =[\"None\"]\n",
    "plot = sns.lmplot(\n",
    "    x=\"GrLivArea\", y=\"SalePrice\", col=\"MasVnrType\", hue=\"MasVnrType\",\n",
    "    col_order=[\"Stone\"] + street+none,\n",
    "    data=housing, robust=True, col_wrap=4, ci=None, truncate=True, scatter_kws={\"s\": 10},\n",
    ")\n",
    "# Adjust font sizes.\n",
    "for ax in plot.axes:\n",
    "    ax.set_title(ax.get_title(), fontsize=20)\n",
    "    ax.set_xlabel(ax.get_xlabel(), fontsize=16)\n",
    "    ax.set_ylabel(ax.get_ylabel(), fontsize=16)"
   ]
  },
  {
   "cell_type": "markdown",
   "metadata": {},
   "source": [
    "### Roof\n",
    "\n",
    "Roofs in Ames, IA, are not special enough to make a difference in the price. Even \"hip\" roofs seem already priced in bigger houses."
   ]
  },
  {
   "cell_type": "code",
   "execution_count": null,
   "metadata": {},
   "outputs": [],
   "source": [
    "sns.scatterplot(x=\"GrLivArea\", y=\"SalePrice\", hue=\"RoofMatl\", s=10, data=housing);"
   ]
  },
  {
   "cell_type": "code",
   "execution_count": null,
   "metadata": {},
   "outputs": [],
   "source": [
    "sns.scatterplot(x=\"GrLivArea\", y=\"SalePrice\", hue=\"RoofStyle\", s=10, data=housing);"
   ]
  },
  {
   "cell_type": "code",
   "execution_count": null,
   "metadata": {},
   "outputs": [],
   "source": []
  },
  {
   "cell_type": "markdown",
   "metadata": {},
   "source": [
    "### Sale Info\n",
    "\n",
    "Partial and abnormal (= foreclosure) sales seem to make a change with higher and lower prices respectively. These two types will be encoded in factor variables *partial_sale* and *abnormal_sale*. The impact seems to be not big though."
   ]
  },
  {
   "cell_type": "code",
   "execution_count": null,
   "metadata": {
    "scrolled": true
   },
   "outputs": [],
   "source": [
    "housing[\"SaleCondition\"].value_counts()"
   ]
  },
  {
   "cell_type": "code",
   "execution_count": null,
   "metadata": {},
   "outputs": [],
   "source": [
    "partial = [\"Partial\"]\n",
    "norm =[\"Normal\"]\n",
    "plot = sns.lmplot(\n",
    "    x=\"GrLivArea\", y=\"SalePrice\", col=\"SaleCondition\", hue=\"SaleCondition\",\n",
    "    col_order=[\"Abnorml\"] + partial+norm,\n",
    "    data=housing, robust=True, col_wrap=4, ci=None, truncate=True, scatter_kws={\"s\": 10},\n",
    ")\n",
    "# Adjust font sizes.\n",
    "for ax in plot.axes:\n",
    "    ax.set_title(ax.get_title(), fontsize=20)\n",
    "    ax.set_xlabel(ax.get_xlabel(), fontsize=16)\n",
    "    ax.set_ylabel(ax.get_ylabel(), fontsize=16)"
   ]
  },
  {
   "cell_type": "code",
   "execution_count": null,
   "metadata": {},
   "outputs": [],
   "source": [
    "### Sale types New and Con have higher prices"
   ]
  },
  {
   "cell_type": "code",
   "execution_count": null,
   "metadata": {
    "scrolled": true
   },
   "outputs": [],
   "source": [
    "sns.scatterplot(x=\"GrLivArea\", y=\"SalePrice\", hue=\"SaleType\", s=15, data=housing);"
   ]
  },
  {
   "cell_type": "code",
   "execution_count": null,
   "metadata": {},
   "outputs": [],
   "source": []
  },
  {
   "cell_type": "markdown",
   "metadata": {},
   "source": [
    "## Age & Remodeling\n",
    "\n",
    "The dataset was put together between 2006 and 2010. Therefore, the variables with year numbers need to be aligned to indicate the right ages."
   ]
  },
  {
   "cell_type": "markdown",
   "metadata": {},
   "source": [
    "Convert the years to age by subtracting it from 2010. Then take the squareroot to reduce the effect of older houses on the outcome"
   ]
  },
  {
   "cell_type": "markdown",
   "metadata": {},
   "source": [
    "### Corelation"
   ]
  },
  {
   "cell_type": "code",
   "execution_count": null,
   "metadata": {},
   "outputs": [],
   "source": [
    "\n",
    "corr = pd.concat([housing.iloc[:,:30], housing['SalePrice']], axis=1).corr()\n",
    "sns.heatmap(corr)"
   ]
  },
  {
   "cell_type": "code",
   "execution_count": null,
   "metadata": {},
   "outputs": [],
   "source": [
    "def plot_correlation(data, title):\n",
    "    \"\"\"Visualize a correlation matrix in a nice heatmap.\"\"\"\n",
    "    fig, ax = plt.subplots(figsize=(12, 12))\n",
    "    ax.set_title(title, fontsize=24)\n",
    "    # Blank out the upper triangular part of the matrix.\n",
    "    mask = np.zeros_like(data, dtype=np.bool)\n",
    "    mask[np.triu_indices_from(mask)] = True\n",
    "    # Use a diverging color map.\n",
    "    cmap = sns.diverging_palette(240, 0, as_cmap=True)\n",
    "    # Adjust the labels' font size.\n",
    "    labels = data.columns\n",
    "    ax.set_xticklabels(labels, fontsize=10)\n",
    "    ax.set_yticklabels(labels, fontsize=10)\n",
    "    # Plot it.\n",
    "    sns.heatmap(\n",
    "        data, vmin=-1, vmax=1, cmap=cmap, center=0, linewidths=.5,\n",
    "        cbar_kws={\"shrink\": .5}, square=True, mask=mask, ax=ax\n",
    "    )\n",
    "\n",
    "size_related = housing.filter(regex='SF$|Area$').fillna(1)\n",
    "\n",
    "pearson = size_related.corr(method=\"pearson\")\n",
    "plot_correlation(pearson, \"Pearson's Correlation\")"
   ]
  },
  {
   "cell_type": "code",
   "execution_count": null,
   "metadata": {},
   "outputs": [],
   "source": [
    "#  TotalBmntSf is highly correlated with IstFlrSF"
   ]
  },
  {
   "cell_type": "code",
   "execution_count": null,
   "metadata": {},
   "outputs": [],
   "source": [
    "qual_related = housing.filter(regex='Qual$|Cond$')\n",
    "pearson = qual_related.corr(method=\"pearson\")\n",
    "plot_correlation(pearson, \"Pearson's Correlation\")"
   ]
  },
  {
   "cell_type": "code",
   "execution_count": null,
   "metadata": {},
   "outputs": [],
   "source": []
  },
  {
   "cell_type": "markdown",
   "metadata": {},
   "source": [
    "### 3D Visualisation"
   ]
  },
  {
   "cell_type": "code",
   "execution_count": null,
   "metadata": {},
   "outputs": [],
   "source": []
  },
  {
   "cell_type": "code",
   "execution_count": null,
   "metadata": {},
   "outputs": [],
   "source": [
    "housing.OverallQual"
   ]
  },
  {
   "cell_type": "code",
   "execution_count": null,
   "metadata": {},
   "outputs": [],
   "source": []
  },
  {
   "cell_type": "code",
   "execution_count": null,
   "metadata": {},
   "outputs": [],
   "source": [
    "housing_plot1 = housing[[ \"GrLivArea\",'OverallQual']]\n",
    "price = housing[\"SalePrice\"]\n",
    "from sklearn import linear_model\n",
    "ols = linear_model.LinearRegression()\n",
    "ols.fit(housing_plot1, price)\n",
    "import matplotlib as mpl\n",
    "from mpl_toolkits.mplot3d import Axes3D\n",
    "N = len(price)\n",
    "beta = np.array([np.round(ols.intercept_, 1), np.round(ols.coef_, 1)[0], np.round(ols.coef_, 1)[1]])\n",
    "x_m = np.array(housing_plot1.head(N)) #np.random.randn(N, 2)\n",
    "y_m = np.array(price.head(N))#np.dot(np.append(np.ones((N,1)), x_m, axis=1), beta) + np.random.randn(N)*4\n",
    "fig = plt.figure(figsize=(14, 10))\n",
    "ax = plt.axes(projection='3d')\n",
    "# plot the data points\n",
    "X = np.array(list(map(lambda x: [3]+ list(x), x_m)))  # Idiomatic Py3, but inefficient on Py2\n",
    "up = np.where(y_m >= np.sum(X*beta, axis=1))[0]\n",
    "down = np.where(y_m < np.sum(X*beta, axis=1))[0]\n",
    "ax.scatter(x_m[up, 0], x_m[up, 1], y_m[up], c='blue', alpha=.6)\n",
    "ax.scatter(x_m[down, 0], x_m[down, 1], y_m[down], c='orange', alpha=.4)\n",
    "\n",
    "# plot the error bars\n",
    "ax = fig.gca(projection='3d')\n",
    "x_up = x_m[up,:]; y_up = y_m[up]\n",
    "up_kwargs = dict(color='red', alpha=.6, lw=0.8)\n",
    "for i, j, k in zip(x_up[:, 0], x_up[:, 1], y_up):\n",
    "    ax.plot([i, i], [j, j], [k, np.dot(beta, [1, i, j])], **up_kwargs)\n",
    "    \n",
    "x_down = x_m[down,:]; y_down = y_m[down]\n",
    "down_kwargs = dict(color='red', alpha=.3, lw=0.8)\n",
    "for i, j, k in zip(x_down[:,0], x_down[:,1], y_down):\n",
    "    ax.plot([i, i], [j, j], [k, np.dot(beta, [1, i, j])], **down_kwargs)\n",
    "    \n",
    "    \n",
    "# plot the plane which represents the true model\n",
    "x_1 = np.linspace(min(x_m[:, 0])-.5, max(x_m[:, 0])+.5, 25)\n",
    "x_2 = np.linspace(min(x_m[:, 1])-.5, max(x_m[:, 1])+.5, 25)\n",
    "x_1, x_2 = np.meshgrid(x_1, x_2)\n",
    "x_3 = beta[1]*x_1 + beta[2]*x_2 + beta[0]\n",
    "surface_kwargs = dict(rstride=100, cstride=100, color='yellow', alpha=0.1)\n",
    "ax.plot_surface(x_1, x_2, x_3, **surface_kwargs)\n",
    "ax.set_xlabel('GrLivArea')\n",
    "ax.set_ylabel('TotalBsmtSF')\n",
    "ax.set_zlabel('SalePrice')\n",
    "plt.show()"
   ]
  },
  {
   "cell_type": "code",
   "execution_count": null,
   "metadata": {},
   "outputs": [],
   "source": []
  },
  {
   "cell_type": "code",
   "execution_count": null,
   "metadata": {
    "scrolled": true
   },
   "outputs": [],
   "source": [
    "## 3D scatter plot\n",
    "housing_plot2 = housing[[ \"Price_by_hood\",'OverallQual']]\n",
    "from sklearn import linear_model\n",
    "ols = linear_model.LinearRegression()\n",
    "ols.fit(housing_plot2, price)\n",
    "\n",
    "import matplotlib as mpl\n",
    "from mpl_toolkits.mplot3d import Axes3D\n",
    "N = len(price)\n",
    "beta = np.array([np.round(ols.intercept_, 1), np.round(ols.coef_, 1)[0], np.round(ols.coef_, 1)[1]])\n",
    "x_m = np.array(housing_plot2.head(N)) #np.random.randn(N, 2)\n",
    "y_m = np.array(price.head(N))#np.dot(np.append(np.ones((N,1)), x_m, axis=1), beta) + np.random.randn(N)*4\n",
    "fig = plt.figure(figsize=(14, 10))\n",
    "ax = plt.axes(projection='3d')\n",
    "# plot the data points\n",
    "X = np.array(list(map(lambda x: [3]+ list(x), x_m)))  # Idiomatic Py3, but inefficient on Py2\n",
    "up = np.where(y_m >= np.sum(X*beta, axis=1))[0]\n",
    "down = np.where(y_m < np.sum(X*beta, axis=1))[0]\n",
    "ax.scatter(x_m[up, 0], x_m[up, 1], y_m[up], c='blue', alpha=.6)\n",
    "ax.scatter(x_m[down, 0], x_m[down, 1], y_m[down], c='orange', alpha=.4)\n",
    "\n",
    "# plot the error bars\n",
    "ax = fig.gca(projection='3d')\n",
    "x_up = x_m[up,:]; y_up = y_m[up]\n",
    "up_kwargs = dict(color='red', alpha=.6, lw=0.8)\n",
    "for i, j, k in zip(x_up[:, 0], x_up[:, 1], y_up):\n",
    "    ax.plot([i, i], [j, j], [k, np.dot(beta, [1, i, j])], **up_kwargs)\n",
    "    \n",
    "x_down = x_m[down,:]; y_down = y_m[down]\n",
    "down_kwargs = dict(color='red', alpha=.3, lw=0.8)\n",
    "for i, j, k in zip(x_down[:,0], x_down[:,1], y_down):\n",
    "    ax.plot([i, i], [j, j], [k, np.dot(beta, [1, i, j])], **down_kwargs)\n",
    "    \n",
    "    \n",
    "# plot the plane which represents the true model\n",
    "x_1 = np.linspace(min(x_m[:, 0])-.5, max(x_m[:, 0])+.5, 25)\n",
    "x_2 = np.linspace(min(x_m[:, 1])-.5, max(x_m[:, 1])+.5, 25)\n",
    "x_1, x_2 = np.meshgrid(x_1, x_2)\n",
    "x_3 = beta[1]*x_1 + beta[2]*x_2 + beta[0]\n",
    "surface_kwargs = dict(rstride=100, cstride=100, color='yellow', alpha=0.1)\n",
    "ax.plot_surface(x_1, x_2, x_3, **surface_kwargs)\n",
    "ax.set_xlabel('Price_by_hood')\n",
    "ax.set_ylabel('OverallQual')\n",
    "ax.set_zlabel('SalePrice')"
   ]
  },
  {
   "cell_type": "code",
   "execution_count": null,
   "metadata": {},
   "outputs": [],
   "source": [
    "## 3D scatter plot\n",
    "housing_plot3 = housing[[ \"dist\",'GrLivArea']]\n",
    "from sklearn import linear_model\n",
    "ols = linear_model.LinearRegression()\n",
    "ols.fit(housing_plot3, price)\n",
    "\n",
    "import matplotlib as mpl\n",
    "from mpl_toolkits.mplot3d import Axes3D\n",
    "N = len(price)\n",
    "beta = np.array([np.round(ols.intercept_, 1), np.round(ols.coef_, 1)[0], np.round(ols.coef_, 1)[1]])\n",
    "x_m = np.array(housing_plot3.head(N)) #np.random.randn(N, 2)\n",
    "y_m = np.array(price.head(N))#np.dot(np.append(np.ones((N,1)), x_m, axis=1), beta) + np.random.randn(N)*4\n",
    "fig = plt.figure(figsize=(14, 10))\n",
    "ax = plt.axes(projection='3d')\n",
    "# plot the data points\n",
    "X = np.array(list(map(lambda x: [3]+ list(x), x_m)))  # Idiomatic Py3, but inefficient on Py2\n",
    "up = np.where(y_m >= np.sum(X*beta, axis=1))[0]\n",
    "down = np.where(y_m < np.sum(X*beta, axis=1))[0]\n",
    "ax.scatter(x_m[up, 0], x_m[up, 1], y_m[up], c='blue', alpha=.6)\n",
    "ax.scatter(x_m[down, 0], x_m[down, 1], y_m[down], c='orange', alpha=.4)\n",
    "\n",
    "# plot the error bars\n",
    "ax = fig.gca(projection='3d')\n",
    "x_up = x_m[up,:]; y_up = y_m[up]\n",
    "up_kwargs = dict(color='red', alpha=.6, lw=0.8)\n",
    "for i, j, k in zip(x_up[:, 0], x_up[:, 1], y_up):\n",
    "    ax.plot([i, i], [j, j], [k, np.dot(beta, [1, i, j])], **up_kwargs)\n",
    "    \n",
    "x_down = x_m[down,:]; y_down = y_m[down]\n",
    "down_kwargs = dict(color='red', alpha=.3, lw=0.8)\n",
    "for i, j, k in zip(x_down[:,0], x_down[:,1], y_down):\n",
    "    ax.plot([i, i], [j, j], [k, np.dot(beta, [1, i, j])], **down_kwargs)\n",
    "    \n",
    "    \n",
    "# plot the plane which represents the true model\n",
    "x_1 = np.linspace(min(x_m[:, 0])-.5, max(x_m[:, 0])+.5, 25)\n",
    "x_2 = np.linspace(min(x_m[:, 1])-.5, max(x_m[:, 1])+.5, 25)\n",
    "x_1, x_2 = np.meshgrid(x_1, x_2)\n",
    "x_3 = beta[1]*x_1 + beta[2]*x_2 + beta[0]\n",
    "surface_kwargs = dict(rstride=100, cstride=100, color='yellow', alpha=0.1)\n",
    "ax.plot_surface(x_1, x_2, x_3, **surface_kwargs)\n",
    "ax.set_xlabel('dist')\n",
    "ax.set_ylabel('GrLivArea')\n",
    "ax.set_zlabel('SalePrice')\n",
    "plt.show()"
   ]
  },
  {
   "cell_type": "markdown",
   "metadata": {},
   "source": [
    "### Interaction of numerical features with SalePrice"
   ]
  },
  {
   "cell_type": "code",
   "execution_count": null,
   "metadata": {},
   "outputs": [],
   "source": [
    "\n",
    "import matplotlib.gridspec as gridspec\n",
    "import matplotlib as mpl\n",
    "import matplotlib.pyplot as plt\n",
    "lst = list(size_related.columns)+list(qual_related.columns)\n",
    "\n",
    "X_1= housing[lst]\n",
    "y_bos = housing[\"SalePrice\"]\n",
    "fig = plt.figure(figsize=(14, 66))\n",
    "gs = gridspec.GridSpec(len(lst), 2)\n",
    "\n",
    "for i in range(len(lst)):\n",
    "    ax1 = plt.subplot(gs[i, 0])\n",
    "    ax2 = plt.subplot(gs[i, 1])    \n",
    "    sns.regplot(y_bos[X_1.iloc[:, i]>0], X_1.iloc[:, i][X_1.iloc[:, i]>0], ax=ax1)\n",
    "    ax1.set_title('{}'.format(X_1.columns[i]))\n",
    "    ax1.set_xlabel('')\n",
    "    ylim = ax1.get_ylim()   \n",
    "    X_1[X_1.columns[i]].hist(bins=50, ax=ax2, orientation='horizontal',color=\"g\")    \n",
    "    ax2.set_ylim((ylim[0], ylim[1]))\n",
    "    ax2.set_xlabel('')\n",
    "    ax2.set_xlim((0, 200))\n",
    "plt.tight_layout(pad=0, w_pad=0, h_pad=0)\n",
    "plt.show()"
   ]
  },
  {
   "cell_type": "code",
   "execution_count": null,
   "metadata": {},
   "outputs": [],
   "source": [
    "\n",
    "import matplotlib.gridspec as gridspec\n",
    "import matplotlib as mpl\n",
    "import matplotlib.pyplot as plt\n",
    "\n",
    "X_1= size_related\n",
    "L = len(X_1.columns)\n",
    "y_bos = housing[\"SalePrice\"]\n",
    "fig = plt.figure(figsize=(10, 35))\n",
    "gs = gridspec.GridSpec(L, 1)\n",
    "\n",
    "for i in range(L-1):\n",
    "    ax1 = plt.subplot(gs[i, 0])    \n",
    "    sns.regplot(X_1.iloc[:, i][X_1.iloc[:, i+1]>0], X_1.iloc[:, i+1][X_1.iloc[:, i+1]>0], ax=ax1)\n",
    "    ax1.set_title('{}'.format(X_1.columns[i+1]))\n",
    "    ax1.set_xlabel('{}'.format(X_1.columns[i]))\n",
    "    ylim = ax1.get_ylim()   \n",
    "plt.tight_layout(pad=0, w_pad=0, h_pad=0)\n",
    "plt.show()"
   ]
  },
  {
   "cell_type": "code",
   "execution_count": null,
   "metadata": {},
   "outputs": [],
   "source": []
  },
  {
   "cell_type": "code",
   "execution_count": null,
   "metadata": {},
   "outputs": [],
   "source": []
  }
 ],
 "metadata": {
  "kernelspec": {
   "display_name": "Python 3 (ipykernel)",
   "language": "python",
   "name": "python3"
  },
  "language_info": {
   "codemirror_mode": {
    "name": "ipython",
    "version": 3
   },
   "file_extension": ".py",
   "mimetype": "text/x-python",
   "name": "python",
   "nbconvert_exporter": "python",
   "pygments_lexer": "ipython3",
   "version": "3.9.12"
  }
 },
 "nbformat": 4,
 "nbformat_minor": 4
}

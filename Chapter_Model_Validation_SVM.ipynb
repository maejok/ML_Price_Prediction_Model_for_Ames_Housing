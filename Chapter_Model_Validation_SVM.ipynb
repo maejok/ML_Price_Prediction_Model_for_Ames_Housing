{
 "cells": [
  {
   "cell_type": "raw",
   "id": "80cddea1",
   "metadata": {
    "scrolled": false
   },
   "source": [
    "# Import clean data from module\n",
    "from clean_data import *"
   ]
  },
  {
   "cell_type": "code",
   "execution_count": 1,
   "id": "7be05b53",
   "metadata": {},
   "outputs": [],
   "source": [
    "# Import useful modules\n",
    "import pandas as pd\n",
    "import seaborn as sns\n",
    "from sklearn.metrics import r2_score\n",
    "from sklearn.metrics import mean_squared_error\n",
    "from sklearn.linear_model import LinearRegression\n",
    "import statsmodels.api as sm\n",
    "from sklearn.tree import DecisionTreeRegressor\n",
    "from sklearn.model_selection import cross_val_score, cross_validate\n",
    "from sklearn.model_selection import GridSearchCV, RandomizedSearchCV\n",
    "from sklearn.ensemble import RandomForestRegressor\n",
    "import numpy as np\n",
    "from sklearn.svm import SVC, SVR\n",
    "from sklearn.preprocessing import StandardScaler\n",
    "from sklearn.model_selection import train_test_split\n",
    "import matplotlib.pyplot as plt"
   ]
  },
  {
   "cell_type": "code",
   "execution_count": 2,
   "id": "c7ee774f",
   "metadata": {},
   "outputs": [],
   "source": [
    "#from Box_cox_test import X1_test, Y_test\n",
    "housing = pd.read_csv(\"~/Desktop/Python_Machine_Learning_Project/ML_Kaggle_Project/housing_new.csv\")\n",
    "X1 =housing.iloc[:,3:]\n",
    "Y=housing[\"SalePrice\"]"
   ]
  },
  {
   "cell_type": "code",
   "execution_count": 3,
   "id": "ded1aa84",
   "metadata": {
    "scrolled": true
   },
   "outputs": [],
   "source": [
    "# Split clean data into a training and validation set\n",
    "X1, X_test, Y, Y_test = train_test_split(X1, Y, test_size = 0.3)"
   ]
  },
  {
   "cell_type": "code",
   "execution_count": 4,
   "id": "1a8dcd48",
   "metadata": {},
   "outputs": [],
   "source": [
    "# Scale the data \n",
    "scaler = StandardScaler().fit(X1)\n",
    "features = scaler.transform(X1)\n",
    "X1_std = pd.DataFrame(features, columns = X1.columns)"
   ]
  },
  {
   "cell_type": "code",
   "execution_count": 5,
   "id": "ee980e4f",
   "metadata": {
    "scrolled": true
   },
   "outputs": [],
   "source": [
    "# Test a simple SVR model\n",
    "svm_model = SVR()\n",
    "test = svm_model.fit(X1_std, Y)"
   ]
  },
  {
   "cell_type": "code",
   "execution_count": 6,
   "id": "85dd0fe2",
   "metadata": {
    "scrolled": false
   },
   "outputs": [
    {
     "data": {
      "text/plain": [
       "-0.0023673986250238865"
      ]
     },
     "execution_count": 6,
     "metadata": {},
     "output_type": "execute_result"
    }
   ],
   "source": [
    "# Score of validation model\n",
    "svm_model.score(X1_std, Y)"
   ]
  },
  {
   "cell_type": "code",
   "execution_count": 7,
   "id": "3c6bfe50",
   "metadata": {},
   "outputs": [
    {
     "data": {
      "text/plain": [
       "{'C': 1.0,\n",
       " 'cache_size': 200,\n",
       " 'coef0': 0.0,\n",
       " 'degree': 3,\n",
       " 'epsilon': 0.1,\n",
       " 'gamma': 'scale',\n",
       " 'kernel': 'rbf',\n",
       " 'max_iter': -1,\n",
       " 'shrinking': True,\n",
       " 'tol': 0.001,\n",
       " 'verbose': False}"
      ]
     },
     "execution_count": 7,
     "metadata": {},
     "output_type": "execute_result"
    }
   ],
   "source": [
    "# Check parameters in test SVR\n",
    "test.get_params()"
   ]
  },
  {
   "cell_type": "code",
   "execution_count": 8,
   "id": "0780aab8",
   "metadata": {},
   "outputs": [
    {
     "data": {
      "text/plain": [
       "RandomizedSearchCV(cv=5, estimator=SVR(), n_iter=20, n_jobs=-1,\n",
       "                   param_distributions={'C': array([  1.        ,   6.21052632,  11.42105263,  16.63157895,\n",
       "        21.84210526,  27.05263158,  32.26315789,  37.47368421,\n",
       "        42.68421053,  47.89473684,  53.10526316,  58.31578947,\n",
       "        63.52631579,  68.73684211,  73.94736842,  79.15789474,\n",
       "        84.36842105,  89.57894737,  94.78947368, 100.        ]),\n",
       "                                        'gamma': ['auto', 'scale'],\n",
       "                                        'kernel': ['linear']})"
      ]
     },
     "execution_count": 8,
     "metadata": {},
     "output_type": "execute_result"
    }
   ],
   "source": [
    "# Run a randomized grid search (to avoid running every parameter combination)\n",
    "params = {'C':np.linspace(1,100,20), 'gamma': ['auto', 'scale'], \n",
    "          'kernel': ['linear']}\n",
    "rand = RandomizedSearchCV(svm_model, params, n_iter = 20, cv = 5, n_jobs = -1)\n",
    "rand.fit(X1_std, Y)"
   ]
  },
  {
   "cell_type": "code",
   "execution_count": 9,
   "id": "e7e19453",
   "metadata": {
    "scrolled": true
   },
   "outputs": [
    {
     "data": {
      "text/plain": [
       "0.9314656732547295"
      ]
     },
     "execution_count": 9,
     "metadata": {},
     "output_type": "execute_result"
    }
   ],
   "source": [
    "# Score from randomized grid search\n",
    "rand.score(X1_std, Y)"
   ]
  },
  {
   "cell_type": "code",
   "execution_count": 10,
   "id": "1ab54aa5",
   "metadata": {},
   "outputs": [
    {
     "data": {
      "text/plain": [
       "0.9228467708100719"
      ]
     },
     "execution_count": 10,
     "metadata": {},
     "output_type": "execute_result"
    }
   ],
   "source": [
    "# Check the best score of the cross validation\n",
    "rand.best_score_"
   ]
  },
  {
   "cell_type": "code",
   "execution_count": 11,
   "id": "5b38252f",
   "metadata": {},
   "outputs": [
    {
     "data": {
      "text/plain": [
       "{'kernel': 'linear', 'gamma': 'scale', 'C': 100.0}"
      ]
     },
     "execution_count": 11,
     "metadata": {},
     "output_type": "execute_result"
    }
   ],
   "source": [
    "# Best parameters from randomized grid search\n",
    "rand.best_params_"
   ]
  },
  {
   "cell_type": "code",
   "execution_count": 12,
   "id": "031c4b85",
   "metadata": {
    "scrolled": true
   },
   "outputs": [
    {
     "name": "stdout",
     "output_type": "stream",
     "text": [
      "16786.12656072665\n"
     ]
    }
   ],
   "source": [
    "# Calculate RMSE based on predictions\n",
    "predictions = rand.predict(X1_std)\n",
    "print(np.sqrt(mean_squared_error(predictions, Y)))"
   ]
  },
  {
   "cell_type": "code",
   "execution_count": 13,
   "id": "dda8b063",
   "metadata": {},
   "outputs": [],
   "source": [
    "# Scale the validation data based on the scaler from the training data\n",
    "features1 = scaler.transform(X_test)\n",
    "X_test_scaled = pd.DataFrame(features1, columns = X1_std.columns)"
   ]
  },
  {
   "cell_type": "code",
   "execution_count": 14,
   "id": "516ac5d3",
   "metadata": {},
   "outputs": [
    {
     "name": "stdout",
     "output_type": "stream",
     "text": [
      "17861.161992073743\n"
     ]
    },
    {
     "data": {
      "text/plain": [
       "0.9171065841098185"
      ]
     },
     "execution_count": 14,
     "metadata": {},
     "output_type": "execute_result"
    }
   ],
   "source": [
    "# Score and RSME of the validation data\n",
    "predictions_test = rand.predict(X_test_scaled)\n",
    "print(np.sqrt(mean_squared_error(predictions_test, Y_test)))\n",
    "rand.score(X_test_scaled, Y_test)"
   ]
  },
  {
   "cell_type": "code",
   "execution_count": 15,
   "id": "46474c02",
   "metadata": {
    "scrolled": true
   },
   "outputs": [
    {
     "data": {
      "text/plain": [
       "array([[ 5.81727047e+03, -5.08001393e+03,  5.82509388e+02,\n",
       "         1.52183404e+03,  1.88650253e+03,  3.63292475e+03,\n",
       "         1.68001549e+03,  5.70205088e+02, -1.27973933e+03,\n",
       "        -1.31509523e+03, -2.45256562e+02, -2.25483085e+03,\n",
       "        -4.38946782e+01,  7.63810207e+03,  7.13086668e+03,\n",
       "        -9.43388811e+03, -1.68517674e+03,  4.98726605e+02,\n",
       "         2.79043243e+03, -8.99311391e+02,  9.56358784e+02,\n",
       "         1.54330344e+03,  1.40761471e+03,  6.44617413e+02,\n",
       "         1.31514986e+03,  4.76601721e+03, -1.26020323e+03,\n",
       "         2.11778192e+03,  3.59891368e+03,  3.47878540e+03,\n",
       "         0.00000000e+00,  1.27449216e+03, -3.56667515e+03,\n",
       "        -3.24448118e+00, -9.96287792e+02, -3.43390220e+00,\n",
       "        -1.34275839e+03,  5.32369635e+03,  4.19814036e+03,\n",
       "        -1.30250608e+02, -8.41165711e+02,  1.56038855e+02,\n",
       "         8.90201895e+02,  1.42253886e+01, -4.08025659e+03,\n",
       "        -3.49101931e+03,  2.69227056e+03,  2.96250529e+03,\n",
       "         1.30752339e+03,  2.26031159e+03,  1.08647656e+03,\n",
       "        -5.06710274e+02,  2.48769194e+03,  5.01020928e+03,\n",
       "         1.85383298e+03,  2.30057290e+03,  1.15509917e+02,\n",
       "        -1.78107322e+02,  2.20587431e+02, -1.62474797e+03,\n",
       "         1.19149098e+03,  4.53595479e+02,  2.51100888e+03,\n",
       "         1.45506847e+03,  1.45506847e+03, -3.24432145e+02,\n",
       "        -1.57200783e+03,  1.34217535e+03,  0.00000000e+00,\n",
       "         6.01969920e+02,  1.59629387e+03,  7.26438289e+02,\n",
       "         3.38408429e+02,  2.60513993e+03,  5.53395569e+03,\n",
       "         1.58154825e+03,  2.67426960e+03, -1.28386307e+03,\n",
       "         6.80196732e+02,  1.10730953e+04,  5.95817125e+01,\n",
       "         1.23774552e+03,  6.21544541e+02, -4.60120848e+02,\n",
       "        -1.15328557e+02,  8.43075562e+01, -5.52216472e+02,\n",
       "        -4.62006949e+02,  3.26366835e+02,  5.39894740e+02,\n",
       "         2.75306896e+03,  2.01747946e+02,  1.51133391e+03,\n",
       "         2.55688552e+03,  2.04661782e+02, -1.19286640e+03,\n",
       "         1.40909688e+02,  1.80309233e+03, -3.96461933e+02,\n",
       "         6.90072904e+01, -4.18967209e+02,  3.61900575e+02,\n",
       "         7.27867425e+01,  5.33111764e+02, -8.35506238e+02,\n",
       "         1.67183677e+03,  2.60116582e+03, -2.85269968e+03,\n",
       "         3.79050115e+02,  9.74129078e+02, -5.58639661e+02,\n",
       "         7.20794451e+02,  1.61057709e+03, -6.58943559e+02,\n",
       "         1.07013595e+03,  3.48307529e+02,  0.00000000e+00,\n",
       "         5.19023798e+01, -9.68633697e+02,  9.77006332e+01,\n",
       "         1.77044369e+03,  3.22635918e+02, -3.68137496e+02,\n",
       "         1.73067087e+02,  4.33423191e+02,  2.79906268e+03,\n",
       "        -1.82804112e+03, -1.00532059e+03, -3.63650877e+00,\n",
       "        -5.75291780e+02,  1.89941882e+02, -7.54298740e+02]])"
      ]
     },
     "execution_count": 15,
     "metadata": {},
     "output_type": "execute_result"
    }
   ],
   "source": [
    "# View the coefficients from the random cross validation\n",
    "rand.best_estimator_.coef_"
   ]
  },
  {
   "cell_type": "code",
   "execution_count": 16,
   "id": "5e52fa22",
   "metadata": {},
   "outputs": [
    {
     "data": {
      "text/plain": [
       "GridSearchCV(cv=3, estimator=SVR(),\n",
       "             param_grid={'C': [6.2105], 'gamma': ['scale'],\n",
       "                         'kernel': ['linear']},\n",
       "             return_train_score=True)"
      ]
     },
     "execution_count": 16,
     "metadata": {},
     "output_type": "execute_result"
    }
   ],
   "source": [
    "# Run a grid search on parameteres from random search\n",
    "paramDict = {'C':[6.2105], 'gamma':['scale'], 'kernel':['linear']}\n",
    "grid = GridSearchCV(svm_model, paramDict, cv=3, return_train_score = True)\n",
    "grid.fit(X1_std, Y)"
   ]
  },
  {
   "cell_type": "code",
   "execution_count": 17,
   "id": "6375fdd8",
   "metadata": {},
   "outputs": [
    {
     "data": {
      "text/plain": [
       "{'C': 6.2105, 'gamma': 'scale', 'kernel': 'linear'}"
      ]
     },
     "execution_count": 17,
     "metadata": {},
     "output_type": "execute_result"
    }
   ],
   "source": [
    "grid.best_params_"
   ]
  },
  {
   "cell_type": "code",
   "execution_count": 18,
   "id": "dc5dd0c5",
   "metadata": {},
   "outputs": [
    {
     "name": "stdout",
     "output_type": "stream",
     "text": [
      "0.8599917188666003\n"
     ]
    },
    {
     "data": {
      "text/plain": [
       "21806.82364385217"
      ]
     },
     "execution_count": 18,
     "metadata": {},
     "output_type": "execute_result"
    }
   ],
   "source": [
    "# View best score from cross validation and RMSE for training data\n",
    "print(grid.best_score_)\n",
    "predictions = grid.predict(X1_std)\n",
    "np.sqrt(mean_squared_error(predictions, Y))"
   ]
  },
  {
   "cell_type": "code",
   "execution_count": 19,
   "id": "67a4618a",
   "metadata": {},
   "outputs": [
    {
     "name": "stdout",
     "output_type": "stream",
     "text": [
      "0.885928486676893\n"
     ]
    },
    {
     "data": {
      "text/plain": [
       "20952.617877747638"
      ]
     },
     "execution_count": 19,
     "metadata": {},
     "output_type": "execute_result"
    }
   ],
   "source": [
    "# View best score from cross validation and RMSE for test data\n",
    "print(grid.score(X_test_scaled, Y_test))\n",
    "predictions2 = grid.predict(X_test_scaled)\n",
    "np.sqrt(mean_squared_error(predictions2, Y_test))"
   ]
  },
  {
   "cell_type": "code",
   "execution_count": 20,
   "id": "e7381059",
   "metadata": {
    "scrolled": true
   },
   "outputs": [
    {
     "data": {
      "text/plain": [
       "array([[ 4.25940540e+03, -1.29584107e+03, -3.64524835e+01,\n",
       "         2.20424333e+02, -7.06356489e+01,  1.69648228e+03,\n",
       "         1.42280450e+03,  1.90692696e+03, -3.17516769e+02,\n",
       "        -3.45799099e+02, -3.12159354e+02, -1.46295856e+03,\n",
       "         2.48724555e+02,  5.20625377e+03,  2.69140074e+03,\n",
       "        -2.51401945e+03, -2.02288212e+03,  1.17596829e+03,\n",
       "         1.33683964e+03, -9.50558663e+01,  5.56317373e+02,\n",
       "         1.61167392e+03,  2.70311979e+03,  1.21599292e+03,\n",
       "         2.55737420e+03,  2.88105386e+03, -2.59091148e+02,\n",
       "         1.13818206e+03,  1.85701168e+03,  1.08307924e+03,\n",
       "         0.00000000e+00,  1.13940883e+03, -4.86825424e+02,\n",
       "         2.20097737e+03, -3.69542786e+02,  9.12170482e+02,\n",
       "         2.18856650e+02,  3.48633170e+03,  2.23569715e+03,\n",
       "        -9.57357595e+02,  8.89270680e+02,  5.20866218e+02,\n",
       "         1.09892470e+03,  3.81721596e+02,  4.10160778e+02,\n",
       "        -1.17973729e+03,  2.71187246e+03,  2.98737596e+03,\n",
       "         6.89071684e+02,  2.91040812e+03,  1.11581623e+03,\n",
       "         1.51608403e+03, -6.15371482e+02,  1.83288660e+03,\n",
       "         1.41008344e+03,  1.61157425e+03,  9.39375763e+02,\n",
       "         1.01148779e+03,  1.18301811e+03, -5.12018940e+02,\n",
       "        -1.57421131e+01,  4.45396263e+02,  1.52082622e+03,\n",
       "         4.28299432e+02,  4.28299432e+02, -1.12727664e+03,\n",
       "        -1.57437248e+02,  1.20532679e+03,  0.00000000e+00,\n",
       "         4.19772108e+02,  6.99989871e+02, -4.36396794e+02,\n",
       "         2.72977926e+02,  1.34962788e+03,  4.22378091e+03,\n",
       "         2.22386373e+03,  3.08284405e+03,  5.83747075e+02,\n",
       "         3.48122508e+02,  4.81964502e+03,  1.49553756e+03,\n",
       "         1.20183077e+03,  4.70291240e+02, -3.65899365e+02,\n",
       "         2.84217094e-14, -3.94123786e+02,  6.76656444e+02,\n",
       "         2.47584379e+02, -7.25610408e+01, -3.48148649e+02,\n",
       "         1.88820189e+03,  3.48473700e+02,  8.26755631e+02,\n",
       "         1.13617587e+03, -1.06596867e+03, -6.67862335e+01,\n",
       "         1.91621961e+02,  4.28299432e+02, -1.25075588e+03,\n",
       "        -7.70599514e+01, -8.86006585e+02,  2.53411430e+02,\n",
       "         1.60508141e+02,  1.50492408e+02,  6.02696547e+01,\n",
       "         1.62177297e+03,  1.81282494e+03, -1.15599932e+03,\n",
       "        -4.94697946e+02,  1.61596527e+02, -4.59451465e+02,\n",
       "         4.31274595e+02,  8.11718176e+02,  1.07087136e+02,\n",
       "         4.95130744e+02,  4.18132544e+02,  0.00000000e+00,\n",
       "        -9.77050849e+01,  1.45481374e+02,  1.91621961e+02,\n",
       "         4.06982846e+02, -5.39330795e+02, -9.37788849e+02,\n",
       "         1.98334402e+02,  9.61086852e+02,  2.51378228e+02,\n",
       "        -1.38913232e+03, -7.68645200e+02,  2.48303319e+02,\n",
       "        -1.11272521e+02,  1.94764192e+02, -4.72828482e+02]])"
      ]
     },
     "execution_count": 20,
     "metadata": {},
     "output_type": "execute_result"
    }
   ],
   "source": [
    "# View the coefficients from the grid search SVR model\n",
    "grid.best_estimator_.coef_"
   ]
  },
  {
   "cell_type": "code",
   "execution_count": 21,
   "id": "728634ed",
   "metadata": {},
   "outputs": [
    {
     "data": {
      "text/plain": [
       "array([147524.25833081])"
      ]
     },
     "execution_count": 21,
     "metadata": {},
     "output_type": "execute_result"
    }
   ],
   "source": [
    "# View the intercept\n",
    "grid.best_estimator_.intercept_"
   ]
  },
  {
   "cell_type": "code",
   "execution_count": 22,
   "id": "857efa9b",
   "metadata": {},
   "outputs": [],
   "source": [
    "# Import pickle so model data can be saved\n",
    "import pickle"
   ]
  },
  {
   "cell_type": "code",
   "execution_count": 23,
   "id": "102eb050",
   "metadata": {
    "scrolled": true
   },
   "outputs": [],
   "source": [
    "# Create pickle file of SVR model\n",
    "filename = 'Pickle_SVR.pkl'\n",
    "pickle.dump(grid, open(filename, 'wb'))"
   ]
  },
  {
   "cell_type": "code",
   "execution_count": 24,
   "id": "bac577a0",
   "metadata": {},
   "outputs": [],
   "source": [
    "# Ceate pickle file of scaler transformation function\n",
    "pickle.dump(scaler, open('scaler.pkl','wb'))"
   ]
  },
  {
   "cell_type": "code",
   "execution_count": 25,
   "id": "bf059080",
   "metadata": {},
   "outputs": [],
   "source": [
    "# Open same pickle file of SVR model\n",
    "with open('Pickle_SVR.pkl', 'rb') as f:\n",
    "    grid = pickle.load(f)"
   ]
  },
  {
   "cell_type": "code",
   "execution_count": 26,
   "id": "f8721023",
   "metadata": {},
   "outputs": [],
   "source": [
    "# Open same scaler file\n",
    "with open('scaler.pkl', 'rb') as f:\n",
    "    scaler = pickle.load(f)"
   ]
  },
  {
   "cell_type": "code",
   "execution_count": 27,
   "id": "6a394690",
   "metadata": {},
   "outputs": [
    {
     "data": {
      "text/plain": [
       "0.8599917188666003"
      ]
     },
     "execution_count": 27,
     "metadata": {},
     "output_type": "execute_result"
    }
   ],
   "source": [
    "grid.best_score_"
   ]
  },
  {
   "cell_type": "code",
   "execution_count": 28,
   "id": "9bae3ed6",
   "metadata": {},
   "outputs": [
    {
     "data": {
      "text/plain": [
       "Index(['GrLivArea', 'MSSubClass', 'MSZoning', 'LotFrontage', 'LotArea',\n",
       "       'Street', 'Alley', 'LotShape', 'LandContour', 'Condition1',\n",
       "       ...\n",
       "       'Electrical__FuseP', 'Electrical__None', 'Electrical__SBrkr',\n",
       "       'GarageFinish__No Garage', 'GarageFinish__RFn', 'GarageFinish__Unf',\n",
       "       'Fence__GdWo', 'Fence__MnPrv', 'Fence__MnWw', 'Fence__No Fence'],\n",
       "      dtype='object', length=132)"
      ]
     },
     "execution_count": 28,
     "metadata": {},
     "output_type": "execute_result"
    }
   ],
   "source": [
    "X_test_scaled.columns"
   ]
  },
  {
   "cell_type": "raw",
   "id": "25a01c38",
   "metadata": {},
   "source": [
    "# Import final test data from module\n",
    "from clean_data_test import *"
   ]
  },
  {
   "cell_type": "raw",
   "id": "c2cd96a8",
   "metadata": {
    "scrolled": true
   },
   "source": [
    "print(X1_test.shape)\n",
    "print(Y_test.shape)"
   ]
  },
  {
   "cell_type": "code",
   "execution_count": 29,
   "id": "682eb7e9",
   "metadata": {},
   "outputs": [],
   "source": [
    "# Create dictionary of target values to be compared with predicted\n",
    "Y_test = pd.DataFrame(Y_test)"
   ]
  },
  {
   "cell_type": "code",
   "execution_count": 30,
   "id": "c76249a2",
   "metadata": {},
   "outputs": [],
   "source": [
    "# Scale the test data based on the scaler from the training data\n",
    "features_test = scaler.transform(X_test)\n",
    "X1_test_scaled = pd.DataFrame(features_test, columns = X_test.columns)"
   ]
  },
  {
   "cell_type": "code",
   "execution_count": 31,
   "id": "34daa366",
   "metadata": {},
   "outputs": [
    {
     "name": "stdout",
     "output_type": "stream",
     "text": [
      "0.885928486676893\n"
     ]
    },
    {
     "data": {
      "text/plain": [
       "20952.617877747638"
      ]
     },
     "execution_count": 31,
     "metadata": {},
     "output_type": "execute_result"
    }
   ],
   "source": [
    "# View the RMSE and score of the actual test data\n",
    "print(grid.score(X1_test_scaled, Y_test))\n",
    "predictions_test = grid.predict(X1_test_scaled)\n",
    "np.sqrt(mean_squared_error(predictions_test, Y_test))"
   ]
  },
  {
   "cell_type": "code",
   "execution_count": 32,
   "id": "669a7d8c",
   "metadata": {},
   "outputs": [],
   "source": [
    "# Create a dataframe of the predicted values\n",
    "predict = pd.DataFrame(predictions_test.reshape(-1,1))"
   ]
  },
  {
   "cell_type": "code",
   "execution_count": 33,
   "id": "91215bb7",
   "metadata": {},
   "outputs": [],
   "source": [
    "# View the predicted values\n",
    "Y_test[['Predicted']] = predict"
   ]
  },
  {
   "cell_type": "code",
   "execution_count": 34,
   "id": "f1012f66",
   "metadata": {},
   "outputs": [
    {
     "data": {
      "text/plain": [
       "Index(['GrLivArea', 'MSSubClass', 'MSZoning', 'LotFrontage', 'LotArea',\n",
       "       'Street', 'Alley', 'LotShape', 'LandContour', 'Condition1',\n",
       "       ...\n",
       "       'Electrical__FuseP', 'Electrical__None', 'Electrical__SBrkr',\n",
       "       'GarageFinish__No Garage', 'GarageFinish__RFn', 'GarageFinish__Unf',\n",
       "       'Fence__GdWo', 'Fence__MnPrv', 'Fence__MnWw', 'Fence__No Fence'],\n",
       "      dtype='object', length=132)"
      ]
     },
     "execution_count": 34,
     "metadata": {},
     "output_type": "execute_result"
    }
   ],
   "source": [
    "X_test.columns"
   ]
  },
  {
   "cell_type": "raw",
   "id": "c83de195",
   "metadata": {
    "scrolled": false
   },
   "source": [
    "# View plot of predicted vs actual values\n",
    "plt.scatter(X_test['Bsmt_ratio'].iloc[0:50], Y_test['Price per SF'].iloc[0:50], s=5, color=\"blue\", label=\"original\")\n",
    "plt.plot(X1_test['Bsmt_ratio'].iloc[0:50], Y_test['Predicted'].iloc[0:50], lw=2, color=\"red\", label=\"fitted\")\n",
    "plt.legend()\n",
    "plt.ylabel('Price per Square Foot')\n",
    "plt.xlabel('Percent of Basement Finished')\n",
    "plt.show()"
   ]
  },
  {
   "cell_type": "code",
   "execution_count": 35,
   "id": "fcdf9856",
   "metadata": {},
   "outputs": [
    {
     "data": {
      "text/html": [
       "<div>\n",
       "<style scoped>\n",
       "    .dataframe tbody tr th:only-of-type {\n",
       "        vertical-align: middle;\n",
       "    }\n",
       "\n",
       "    .dataframe tbody tr th {\n",
       "        vertical-align: top;\n",
       "    }\n",
       "\n",
       "    .dataframe thead th {\n",
       "        text-align: right;\n",
       "    }\n",
       "</style>\n",
       "<table border=\"1\" class=\"dataframe\">\n",
       "  <thead>\n",
       "    <tr style=\"text-align: right;\">\n",
       "      <th></th>\n",
       "      <th>Feature</th>\n",
       "      <th>Coefficient</th>\n",
       "    </tr>\n",
       "  </thead>\n",
       "  <tbody>\n",
       "    <tr>\n",
       "      <th>13</th>\n",
       "      <td>OverallQual</td>\n",
       "      <td>5206.253768</td>\n",
       "    </tr>\n",
       "    <tr>\n",
       "      <th>79</th>\n",
       "      <td>TotalSF</td>\n",
       "      <td>4819.645016</td>\n",
       "    </tr>\n",
       "    <tr>\n",
       "      <th>0</th>\n",
       "      <td>GrLivArea</td>\n",
       "      <td>4259.405395</td>\n",
       "    </tr>\n",
       "    <tr>\n",
       "      <th>74</th>\n",
       "      <td>GrLivArea_year</td>\n",
       "      <td>4223.780907</td>\n",
       "    </tr>\n",
       "    <tr>\n",
       "      <th>37</th>\n",
       "      <td>1stFlrSF</td>\n",
       "      <td>3486.331697</td>\n",
       "    </tr>\n",
       "    <tr>\n",
       "      <th>...</th>\n",
       "      <td>...</td>\n",
       "      <td>...</td>\n",
       "    </tr>\n",
       "    <tr>\n",
       "      <th>1</th>\n",
       "      <td>MSSubClass</td>\n",
       "      <td>-1295.841074</td>\n",
       "    </tr>\n",
       "    <tr>\n",
       "      <th>126</th>\n",
       "      <td>GarageFinish__RFn</td>\n",
       "      <td>-1389.132322</td>\n",
       "    </tr>\n",
       "    <tr>\n",
       "      <th>11</th>\n",
       "      <td>BldgType</td>\n",
       "      <td>-1462.958557</td>\n",
       "    </tr>\n",
       "    <tr>\n",
       "      <th>16</th>\n",
       "      <td>YearRemodAdd</td>\n",
       "      <td>-2022.882121</td>\n",
       "    </tr>\n",
       "    <tr>\n",
       "      <th>15</th>\n",
       "      <td>YearBuilt</td>\n",
       "      <td>-2514.019447</td>\n",
       "    </tr>\n",
       "  </tbody>\n",
       "</table>\n",
       "<p>132 rows × 2 columns</p>\n",
       "</div>"
      ],
      "text/plain": [
       "               Feature  Coefficient\n",
       "13         OverallQual  5206.253768\n",
       "79             TotalSF  4819.645016\n",
       "0            GrLivArea  4259.405395\n",
       "74      GrLivArea_year  4223.780907\n",
       "37            1stFlrSF  3486.331697\n",
       "..                 ...          ...\n",
       "1           MSSubClass -1295.841074\n",
       "126  GarageFinish__RFn -1389.132322\n",
       "11            BldgType -1462.958557\n",
       "16        YearRemodAdd -2022.882121\n",
       "15           YearBuilt -2514.019447\n",
       "\n",
       "[132 rows x 2 columns]"
      ]
     },
     "execution_count": 35,
     "metadata": {},
     "output_type": "execute_result"
    }
   ],
   "source": [
    "# check feature importance\n",
    "coefficients = pd.concat([pd.DataFrame(X_test.columns),pd.DataFrame(np.transpose(grid.best_estimator_.coef_))], axis = 1)\n",
    "coefficients.columns = ['Feature', 'Coefficient']\n",
    "coefficients.sort_values('Coefficient', ascending=False)\n"
   ]
  },
  {
   "cell_type": "code",
   "execution_count": 36,
   "id": "89cb81e8",
   "metadata": {},
   "outputs": [],
   "source": [
    "coefficients['Importance'] = abs(coefficients['Coefficient'])\n",
    "coefficients = coefficients.sort_values('Importance', ascending=False)"
   ]
  },
  {
   "cell_type": "code",
   "execution_count": 37,
   "id": "5b869ce0",
   "metadata": {
    "scrolled": true
   },
   "outputs": [
    {
     "name": "stdout",
     "output_type": "stream",
     "text": [
      "<class 'pandas.core.frame.DataFrame'>\n",
      "Int64Index: 132 entries, 13 to 68\n",
      "Data columns (total 3 columns):\n",
      " #   Column       Non-Null Count  Dtype  \n",
      "---  ------       --------------  -----  \n",
      " 0   Feature      132 non-null    object \n",
      " 1   Coefficient  132 non-null    float64\n",
      " 2   Importance   132 non-null    float64\n",
      "dtypes: float64(2), object(1)\n",
      "memory usage: 4.1+ KB\n"
     ]
    }
   ],
   "source": [
    "coefficients['Importance'] = coefficients['Importance'].astype(float)\n",
    "coefficients.info()"
   ]
  },
  {
   "cell_type": "code",
   "execution_count": 46,
   "id": "bcb3f2fb",
   "metadata": {},
   "outputs": [
    {
     "data": {
      "text/html": [
       "<div>\n",
       "<style scoped>\n",
       "    .dataframe tbody tr th:only-of-type {\n",
       "        vertical-align: middle;\n",
       "    }\n",
       "\n",
       "    .dataframe tbody tr th {\n",
       "        vertical-align: top;\n",
       "    }\n",
       "\n",
       "    .dataframe thead th {\n",
       "        text-align: right;\n",
       "    }\n",
       "</style>\n",
       "<table border=\"1\" class=\"dataframe\">\n",
       "  <thead>\n",
       "    <tr style=\"text-align: right;\">\n",
       "      <th></th>\n",
       "      <th>Feature</th>\n",
       "      <th>Coefficient</th>\n",
       "      <th>Importance</th>\n",
       "    </tr>\n",
       "  </thead>\n",
       "  <tbody>\n",
       "    <tr>\n",
       "      <th>13</th>\n",
       "      <td>OverallQual</td>\n",
       "      <td>5206.253768</td>\n",
       "      <td>5206.253768</td>\n",
       "    </tr>\n",
       "    <tr>\n",
       "      <th>79</th>\n",
       "      <td>TotalSF</td>\n",
       "      <td>4819.645016</td>\n",
       "      <td>4819.645016</td>\n",
       "    </tr>\n",
       "    <tr>\n",
       "      <th>0</th>\n",
       "      <td>GrLivArea</td>\n",
       "      <td>4259.405395</td>\n",
       "      <td>4259.405395</td>\n",
       "    </tr>\n",
       "    <tr>\n",
       "      <th>74</th>\n",
       "      <td>GrLivArea_year</td>\n",
       "      <td>4223.780907</td>\n",
       "      <td>4223.780907</td>\n",
       "    </tr>\n",
       "    <tr>\n",
       "      <th>37</th>\n",
       "      <td>1stFlrSF</td>\n",
       "      <td>3486.331697</td>\n",
       "      <td>3486.331697</td>\n",
       "    </tr>\n",
       "    <tr>\n",
       "      <th>76</th>\n",
       "      <td>Price_by_hood</td>\n",
       "      <td>3082.844048</td>\n",
       "      <td>3082.844048</td>\n",
       "    </tr>\n",
       "    <tr>\n",
       "      <th>47</th>\n",
       "      <td>TotRmsAbvGrd</td>\n",
       "      <td>2987.375961</td>\n",
       "      <td>2987.375961</td>\n",
       "    </tr>\n",
       "    <tr>\n",
       "      <th>49</th>\n",
       "      <td>Fireplaces</td>\n",
       "      <td>2910.408123</td>\n",
       "      <td>2910.408123</td>\n",
       "    </tr>\n",
       "    <tr>\n",
       "      <th>25</th>\n",
       "      <td>BsmtQual</td>\n",
       "      <td>2881.053862</td>\n",
       "      <td>2881.053862</td>\n",
       "    </tr>\n",
       "    <tr>\n",
       "      <th>46</th>\n",
       "      <td>KitchenQual</td>\n",
       "      <td>2711.872459</td>\n",
       "      <td>2711.872459</td>\n",
       "    </tr>\n",
       "    <tr>\n",
       "      <th>22</th>\n",
       "      <td>ExterQual</td>\n",
       "      <td>2703.119794</td>\n",
       "      <td>2703.119794</td>\n",
       "    </tr>\n",
       "    <tr>\n",
       "      <th>14</th>\n",
       "      <td>OverallCond</td>\n",
       "      <td>2691.400736</td>\n",
       "      <td>2691.400736</td>\n",
       "    </tr>\n",
       "    <tr>\n",
       "      <th>24</th>\n",
       "      <td>Foundation</td>\n",
       "      <td>2557.374201</td>\n",
       "      <td>2557.374201</td>\n",
       "    </tr>\n",
       "    <tr>\n",
       "      <th>15</th>\n",
       "      <td>YearBuilt</td>\n",
       "      <td>-2514.019447</td>\n",
       "      <td>2514.019447</td>\n",
       "    </tr>\n",
       "    <tr>\n",
       "      <th>38</th>\n",
       "      <td>2ndFlrSF</td>\n",
       "      <td>2235.697151</td>\n",
       "      <td>2235.697151</td>\n",
       "    </tr>\n",
       "    <tr>\n",
       "      <th>75</th>\n",
       "      <td>GrLivArea_by_hood</td>\n",
       "      <td>2223.863731</td>\n",
       "      <td>2223.863731</td>\n",
       "    </tr>\n",
       "    <tr>\n",
       "      <th>33</th>\n",
       "      <td>TotalBsmtSF</td>\n",
       "      <td>2200.977371</td>\n",
       "      <td>2200.977371</td>\n",
       "    </tr>\n",
       "    <tr>\n",
       "      <th>16</th>\n",
       "      <td>YearRemodAdd</td>\n",
       "      <td>-2022.882121</td>\n",
       "      <td>2022.882121</td>\n",
       "    </tr>\n",
       "    <tr>\n",
       "      <th>7</th>\n",
       "      <td>LotShape</td>\n",
       "      <td>1906.926959</td>\n",
       "      <td>1906.926959</td>\n",
       "    </tr>\n",
       "    <tr>\n",
       "      <th>90</th>\n",
       "      <td>Neighborhood__BrkSide</td>\n",
       "      <td>1888.201890</td>\n",
       "      <td>1888.201890</td>\n",
       "    </tr>\n",
       "    <tr>\n",
       "      <th>28</th>\n",
       "      <td>BsmtFinType1</td>\n",
       "      <td>1857.011677</td>\n",
       "      <td>1857.011677</td>\n",
       "    </tr>\n",
       "    <tr>\n",
       "      <th>53</th>\n",
       "      <td>GarageCars</td>\n",
       "      <td>1832.886603</td>\n",
       "      <td>1832.886603</td>\n",
       "    </tr>\n",
       "    <tr>\n",
       "      <th>106</th>\n",
       "      <td>Neighborhood__NridgHt</td>\n",
       "      <td>1812.824940</td>\n",
       "      <td>1812.824940</td>\n",
       "    </tr>\n",
       "    <tr>\n",
       "      <th>5</th>\n",
       "      <td>Street</td>\n",
       "      <td>1696.482279</td>\n",
       "      <td>1696.482279</td>\n",
       "    </tr>\n",
       "    <tr>\n",
       "      <th>105</th>\n",
       "      <td>Neighborhood__NoRidge</td>\n",
       "      <td>1621.772969</td>\n",
       "      <td>1621.772969</td>\n",
       "    </tr>\n",
       "    <tr>\n",
       "      <th>21</th>\n",
       "      <td>MasVnrArea</td>\n",
       "      <td>1611.673922</td>\n",
       "      <td>1611.673922</td>\n",
       "    </tr>\n",
       "    <tr>\n",
       "      <th>55</th>\n",
       "      <td>GarageQual</td>\n",
       "      <td>1611.574251</td>\n",
       "      <td>1611.574251</td>\n",
       "    </tr>\n",
       "    <tr>\n",
       "      <th>62</th>\n",
       "      <td>ScreenPorch</td>\n",
       "      <td>1520.826220</td>\n",
       "      <td>1520.826220</td>\n",
       "    </tr>\n",
       "    <tr>\n",
       "      <th>51</th>\n",
       "      <td>GarageType</td>\n",
       "      <td>1516.084031</td>\n",
       "      <td>1516.084031</td>\n",
       "    </tr>\n",
       "    <tr>\n",
       "      <th>80</th>\n",
       "      <td>bathrm_cnt</td>\n",
       "      <td>1495.537562</td>\n",
       "      <td>1495.537562</td>\n",
       "    </tr>\n",
       "    <tr>\n",
       "      <th>11</th>\n",
       "      <td>BldgType</td>\n",
       "      <td>-1462.958557</td>\n",
       "      <td>1462.958557</td>\n",
       "    </tr>\n",
       "    <tr>\n",
       "      <th>6</th>\n",
       "      <td>Alley</td>\n",
       "      <td>1422.804500</td>\n",
       "      <td>1422.804500</td>\n",
       "    </tr>\n",
       "    <tr>\n",
       "      <th>54</th>\n",
       "      <td>GarageArea</td>\n",
       "      <td>1410.083442</td>\n",
       "      <td>1410.083442</td>\n",
       "    </tr>\n",
       "    <tr>\n",
       "      <th>126</th>\n",
       "      <td>GarageFinish__RFn</td>\n",
       "      <td>-1389.132322</td>\n",
       "      <td>1389.132322</td>\n",
       "    </tr>\n",
       "    <tr>\n",
       "      <th>73</th>\n",
       "      <td>income</td>\n",
       "      <td>1349.627881</td>\n",
       "      <td>1349.627881</td>\n",
       "    </tr>\n",
       "    <tr>\n",
       "      <th>18</th>\n",
       "      <td>Exterior1st</td>\n",
       "      <td>1336.839635</td>\n",
       "      <td>1336.839635</td>\n",
       "    </tr>\n",
       "    <tr>\n",
       "      <th>1</th>\n",
       "      <td>MSSubClass</td>\n",
       "      <td>-1295.841074</td>\n",
       "      <td>1295.841074</td>\n",
       "    </tr>\n",
       "    <tr>\n",
       "      <th>98</th>\n",
       "      <td>Neighborhood__IDOTRR</td>\n",
       "      <td>-1250.755883</td>\n",
       "      <td>1250.755883</td>\n",
       "    </tr>\n",
       "    <tr>\n",
       "      <th>23</th>\n",
       "      <td>ExterCond</td>\n",
       "      <td>1215.992916</td>\n",
       "      <td>1215.992916</td>\n",
       "    </tr>\n",
       "    <tr>\n",
       "      <th>67</th>\n",
       "      <td>YrSold</td>\n",
       "      <td>1205.326793</td>\n",
       "      <td>1205.326793</td>\n",
       "    </tr>\n",
       "    <tr>\n",
       "      <th>81</th>\n",
       "      <td>patioSF</td>\n",
       "      <td>1201.830773</td>\n",
       "      <td>1201.830773</td>\n",
       "    </tr>\n",
       "    <tr>\n",
       "      <th>58</th>\n",
       "      <td>WoodDeckSF</td>\n",
       "      <td>1183.018110</td>\n",
       "      <td>1183.018110</td>\n",
       "    </tr>\n",
       "    <tr>\n",
       "      <th>45</th>\n",
       "      <td>KitchenAbvGr</td>\n",
       "      <td>-1179.737285</td>\n",
       "      <td>1179.737285</td>\n",
       "    </tr>\n",
       "    <tr>\n",
       "      <th>17</th>\n",
       "      <td>RoofStyle</td>\n",
       "      <td>1175.968291</td>\n",
       "      <td>1175.968291</td>\n",
       "    </tr>\n",
       "    <tr>\n",
       "      <th>107</th>\n",
       "      <td>Neighborhood__OldTown</td>\n",
       "      <td>-1155.999322</td>\n",
       "      <td>1155.999322</td>\n",
       "    </tr>\n",
       "    <tr>\n",
       "      <th>31</th>\n",
       "      <td>BsmtFinSF2</td>\n",
       "      <td>1139.408826</td>\n",
       "      <td>1139.408826</td>\n",
       "    </tr>\n",
       "    <tr>\n",
       "      <th>27</th>\n",
       "      <td>BsmtExposure</td>\n",
       "      <td>1138.182061</td>\n",
       "      <td>1138.182061</td>\n",
       "    </tr>\n",
       "    <tr>\n",
       "      <th>93</th>\n",
       "      <td>Neighborhood__Crawfor</td>\n",
       "      <td>1136.175871</td>\n",
       "      <td>1136.175871</td>\n",
       "    </tr>\n",
       "    <tr>\n",
       "      <th>65</th>\n",
       "      <td>MiscVal</td>\n",
       "      <td>-1127.276641</td>\n",
       "      <td>1127.276641</td>\n",
       "    </tr>\n",
       "    <tr>\n",
       "      <th>50</th>\n",
       "      <td>FireplaceQu</td>\n",
       "      <td>1115.816228</td>\n",
       "      <td>1115.816228</td>\n",
       "    </tr>\n",
       "    <tr>\n",
       "      <th>42</th>\n",
       "      <td>FullBath</td>\n",
       "      <td>1098.924701</td>\n",
       "      <td>1098.924701</td>\n",
       "    </tr>\n",
       "    <tr>\n",
       "      <th>29</th>\n",
       "      <td>BsmtFinSF1</td>\n",
       "      <td>1083.079237</td>\n",
       "      <td>1083.079237</td>\n",
       "    </tr>\n",
       "    <tr>\n",
       "      <th>94</th>\n",
       "      <td>Neighborhood__Edwards</td>\n",
       "      <td>-1065.968667</td>\n",
       "      <td>1065.968667</td>\n",
       "    </tr>\n",
       "    <tr>\n",
       "      <th>57</th>\n",
       "      <td>PavedDrive</td>\n",
       "      <td>1011.487787</td>\n",
       "      <td>1011.487787</td>\n",
       "    </tr>\n",
       "  </tbody>\n",
       "</table>\n",
       "</div>"
      ],
      "text/plain": [
       "                   Feature  Coefficient   Importance\n",
       "13             OverallQual  5206.253768  5206.253768\n",
       "79                 TotalSF  4819.645016  4819.645016\n",
       "0                GrLivArea  4259.405395  4259.405395\n",
       "74          GrLivArea_year  4223.780907  4223.780907\n",
       "37                1stFlrSF  3486.331697  3486.331697\n",
       "76           Price_by_hood  3082.844048  3082.844048\n",
       "47            TotRmsAbvGrd  2987.375961  2987.375961\n",
       "49              Fireplaces  2910.408123  2910.408123\n",
       "25                BsmtQual  2881.053862  2881.053862\n",
       "46             KitchenQual  2711.872459  2711.872459\n",
       "22               ExterQual  2703.119794  2703.119794\n",
       "14             OverallCond  2691.400736  2691.400736\n",
       "24              Foundation  2557.374201  2557.374201\n",
       "15               YearBuilt -2514.019447  2514.019447\n",
       "38                2ndFlrSF  2235.697151  2235.697151\n",
       "75       GrLivArea_by_hood  2223.863731  2223.863731\n",
       "33             TotalBsmtSF  2200.977371  2200.977371\n",
       "16            YearRemodAdd -2022.882121  2022.882121\n",
       "7                 LotShape  1906.926959  1906.926959\n",
       "90   Neighborhood__BrkSide  1888.201890  1888.201890\n",
       "28            BsmtFinType1  1857.011677  1857.011677\n",
       "53              GarageCars  1832.886603  1832.886603\n",
       "106  Neighborhood__NridgHt  1812.824940  1812.824940\n",
       "5                   Street  1696.482279  1696.482279\n",
       "105  Neighborhood__NoRidge  1621.772969  1621.772969\n",
       "21              MasVnrArea  1611.673922  1611.673922\n",
       "55              GarageQual  1611.574251  1611.574251\n",
       "62             ScreenPorch  1520.826220  1520.826220\n",
       "51              GarageType  1516.084031  1516.084031\n",
       "80              bathrm_cnt  1495.537562  1495.537562\n",
       "11                BldgType -1462.958557  1462.958557\n",
       "6                    Alley  1422.804500  1422.804500\n",
       "54              GarageArea  1410.083442  1410.083442\n",
       "126      GarageFinish__RFn -1389.132322  1389.132322\n",
       "73                  income  1349.627881  1349.627881\n",
       "18             Exterior1st  1336.839635  1336.839635\n",
       "1               MSSubClass -1295.841074  1295.841074\n",
       "98    Neighborhood__IDOTRR -1250.755883  1250.755883\n",
       "23               ExterCond  1215.992916  1215.992916\n",
       "67                  YrSold  1205.326793  1205.326793\n",
       "81                 patioSF  1201.830773  1201.830773\n",
       "58              WoodDeckSF  1183.018110  1183.018110\n",
       "45            KitchenAbvGr -1179.737285  1179.737285\n",
       "17               RoofStyle  1175.968291  1175.968291\n",
       "107  Neighborhood__OldTown -1155.999322  1155.999322\n",
       "31              BsmtFinSF2  1139.408826  1139.408826\n",
       "27            BsmtExposure  1138.182061  1138.182061\n",
       "93   Neighborhood__Crawfor  1136.175871  1136.175871\n",
       "65                 MiscVal -1127.276641  1127.276641\n",
       "50             FireplaceQu  1115.816228  1115.816228\n",
       "42                FullBath  1098.924701  1098.924701\n",
       "29              BsmtFinSF1  1083.079237  1083.079237\n",
       "94   Neighborhood__Edwards -1065.968667  1065.968667\n",
       "57              PavedDrive  1011.487787  1011.487787"
      ]
     },
     "execution_count": 46,
     "metadata": {},
     "output_type": "execute_result"
    }
   ],
   "source": [
    "coefficients[coefficients.Importance>1000]"
   ]
  },
  {
   "cell_type": "code",
   "execution_count": 39,
   "id": "2cc85e0d",
   "metadata": {
    "scrolled": false
   },
   "outputs": [
    {
     "data": {
      "image/png": "[encoded data removed]",
      "text/plain": [
       "<Figure size 720x720 with 1 Axes>"
      ]
     },
     "metadata": {
      "needs_background": "light"
     },
     "output_type": "display_data"
    }
   ],
   "source": [
    "plot1 = coefficients.iloc[0:10].plot(kind='barh', x='Feature', y='Coefficient', \n",
    "                                     color=['cyan', 'orange', 'blue', 'red', 'green', 'purple', 'yellow', \n",
    "                                            'teal', 'firebrick', 'lightsteelblue'], \n",
    "                                     figsize=(10,10), width=.9).invert_yaxis()\n"
   ]
  },
  {
   "cell_type": "code",
   "execution_count": 40,
   "id": "427d2380",
   "metadata": {},
   "outputs": [
    {
     "data": {
      "image/png": "[encoded data removed]",
      "text/plain": [
       "<Figure size 864x576 with 1 Axes>"
      ]
     },
     "metadata": {
      "needs_background": "light"
     },
     "output_type": "display_data"
    }
   ],
   "source": [
    "plt.figure(figsize=(12,8))\n",
    "b = sns.barplot(y = coefficients.Feature.iloc[0:5], \n",
    "            x = coefficients.Coefficient.iloc[0:5],\n",
    "           palette='Reds')\n",
    "b.set_xlabel(\"Importance\", fontsize=15)\n",
    "b.set_ylabel(\"Predictors\",fontsize = 15)\n",
    "b.set_title(\"Top 5 Features of SVR\", fontsize=20)\n",
    "b.tick_params(labelsize = 12)"
   ]
  },
  {
   "cell_type": "code",
   "execution_count": null,
   "id": "da506edd",
   "metadata": {},
   "outputs": [],
   "source": []
  },
  {
   "cell_type": "code",
   "execution_count": 41,
   "id": "d8971d2a",
   "metadata": {
    "scrolled": true
   },
   "outputs": [
    {
     "data": {
      "image/png": "[encoded data removed]",
      "text/plain": [
       "<Figure size 864x576 with 1 Axes>"
      ]
     },
     "metadata": {
      "needs_background": "light"
     },
     "output_type": "display_data"
    }
   ],
   "source": [
    "plt.figure(figsize=(12,8))\n",
    "c = sns.barplot(y = coefficients.Feature.iloc[-5::], \n",
    "            x = coefficients.Coefficient.iloc[-5::],\n",
    "           palette='Greens')\n",
    "c.set_xlabel(\"Importance\", fontsize=15)\n",
    "c.set_ylabel(\"Predictors\",fontsize = 15)\n",
    "c.set_title(\"Bottom 5 Features of SVR\", fontsize=20)\n",
    "c.tick_params(labelsize = 12)"
   ]
  },
  {
   "cell_type": "code",
   "execution_count": 42,
   "id": "cb95e9e6",
   "metadata": {},
   "outputs": [
    {
     "name": "stdout",
     "output_type": "stream",
     "text": [
      "      OverallQual  TotalSF  LotArea\n",
      "5948            2   1064.0     6120\n",
      "6212            2    810.0    21780\n",
      "6107            2    810.0    21780\n",
      "6137            2    810.0    21780\n",
      "5366            2    996.0     8088\n",
      "...           ...      ...      ...\n",
      "6091            2    810.0    21780\n",
      "6114            2    810.0    21780\n",
      "3057            2   1015.0     5400\n",
      "6095            2    810.0    21780\n",
      "6183            2    810.0    21780\n",
      "\n",
      "[63 rows x 3 columns]\n",
      "      OverallQual  TotalSF  LotArea\n",
      "5948            2   1064.0     6120\n",
      "6212            2    810.0    21780\n",
      "6107            2    810.0    21780\n",
      "6137            2    810.0    21780\n",
      "5366            2    996.0     8088\n",
      "...           ...      ...      ...\n",
      "6091            2    810.0    21780\n",
      "6114            2    810.0    21780\n",
      "3057            2   1015.0     5400\n",
      "6095            2    810.0    21780\n",
      "6183            2    810.0    21780\n",
      "\n",
      "[63 rows x 3 columns]\n"
     ]
    }
   ],
   "source": [
    "overall_qual_train = X_test[X_test['OverallQual']<=2][['OverallQual',  'TotalSF', 'LotArea']]\n",
    "\n",
    "overall_qual_test = X_test[X_test['OverallQual']<=2][['OverallQual',  'TotalSF', 'LotArea']]\n",
    "\n",
    "print(overall_qual_train)\n",
    "print(overall_qual_test)"
   ]
  },
  {
   "cell_type": "raw",
   "id": "f72c46a1",
   "metadata": {},
   "source": [
    "cond_1 = X1[X1['OverallCond']==1][['TotalSF', 'SalePrice']]\n",
    "cond_1['Price_per_sf'] = cond_1['SalePrice'] / cond_1['TotalSF']\n",
    "print(cond_1.Price_per_sf.mean())\n",
    "cond_2 = X1[X1['OverallCond']==2][['TotalSF', 'SalePrice']]\n",
    "cond_2['Price_per_sf'] = cond_2['SalePrice'] / cond_2['TotalSF']\n",
    "print(cond_2.Price_per_sf.mean())\n",
    "cond_3 = X1[X1['OverallCond']==3][['TotalSF', 'SalePrice']]\n",
    "cond_3['Price_per_sf'] = cond_3['SalePrice'] / cond_3['TotalSF']\n",
    "print(cond_3.Price_per_sf.mean())\n",
    "cond_4 = X1[X1['OverallCond']==4][['TotalSF', 'SalePrice']]\n",
    "cond_4['Price_per_sf'] = cond_4['SalePrice'] / cond_4['TotalSF']\n",
    "print(cond_4.Price_per_sf.mean())\n",
    "cond_5 = X1[X1['OverallCond']==5][['TotalSF', 'SalePrice']]\n",
    "cond_5['Price_per_sf'] = cond_5['SalePrice'] / cond_5['TotalSF']\n",
    "print(cond_5.Price_per_sf.mean())\n",
    "cond_6 = X1[X1['OverallCond']==6][['TotalSF', 'SalePrice']]\n",
    "cond_6['Price_per_sf'] = cond_6['SalePrice'] / cond_6['TotalSF']\n",
    "print(cond_6.Price_per_sf.mean())\n",
    "cond_7 = X1[X1['OverallCond']==7][['TotalSF', 'SalePrice']]\n",
    "cond_7['Price_per_sf'] = cond_7['SalePrice'] / cond_7['TotalSF']\n",
    "print(cond_7.Price_per_sf.mean())\n",
    "cond_8 = X1[X1['OverallCond']==8][['TotalSF', 'SalePrice']]\n",
    "cond_8['Price_per_sf'] = cond_8['SalePrice'] / cond_8['TotalSF']\n",
    "print(cond_8.Price_per_sf.mean())\n",
    "cond_9 = X1[X1['OverallCond']==9][['TotalSF', 'SalePrice']]\n",
    "cond_9['Price_per_sf'] = cond_9['SalePrice'] / cond_9['TotalSF']\n",
    "print(cond_9.Price_per_sf.mean())\n",
    "cond_10 = X1[X1['OverallCond']==10][['TotalSF', 'SalePrice']]\n",
    "cond_10['Price_per_sf'] = cond_10['SalePrice'] / cond_10['TotalSF']\n",
    "print(cond_10.Price_per_sf.mean())\n",
    "\n",
    "\n",
    "diff1=cond_2.Price_per_sf.mean()-cond_1.Price_per_sf.mean()\n",
    "diff2=cond_3.Price_per_sf.mean()-cond_2.Price_per_sf.mean()\n",
    "diff3=cond_4.Price_per_sf.mean()-cond_3.Price_per_sf.mean()\n",
    "diff4=cond_5.Price_per_sf.mean()-cond_4.Price_per_sf.mean()\n",
    "diff5=cond_6.Price_per_sf.mean()-cond_5.Price_per_sf.mean()\n",
    "diff6=cond_7.Price_per_sf.mean()-cond_6.Price_per_sf.mean()\n",
    "diff7=cond_8.Price_per_sf.mean()-cond_7.Price_per_sf.mean()\n",
    "diff8=cond_9.Price_per_sf.mean()-cond_8.Price_per_sf.mean()\n",
    "\n",
    "(diff1+diff2+diff3+diff4+diff5+diff6+diff7+diff8)/8"
   ]
  }
 ],
 "metadata": {
  "kernelspec": {
   "display_name": "Python 3 (ipykernel)",
   "language": "python",
   "name": "python3"
  },
  "language_info": {
   "codemirror_mode": {
    "name": "ipython",
    "version": 3
   },
   "file_extension": ".py",
   "mimetype": "text/x-python",
   "name": "python",
   "nbconvert_exporter": "python",
   "pygments_lexer": "ipython3",
   "version": "3.9.12"
  }
 },
 "nbformat": 4,
 "nbformat_minor": 5
}
